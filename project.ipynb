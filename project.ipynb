{
 "cells": [
  {
   "cell_type": "code",
   "execution_count": 1,
   "metadata": {},
   "outputs": [],
   "source": [
    "import numpy as np\n",
    "import math\n",
    "import pandas as pd"
   ]
  },
  {
   "cell_type": "code",
   "execution_count": 34,
   "metadata": {},
   "outputs": [],
   "source": [
    "from matplotlib import pyplot as plt"
   ]
  },
  {
   "cell_type": "code",
   "execution_count": 17,
   "metadata": {},
   "outputs": [],
   "source": [
    "df1 = pd.read_csv(r'visible_range\\kaikovo\\t1n_lvl_2.txt',header=None,sep=\"\\t\")"
   ]
  },
  {
   "cell_type": "code",
   "execution_count": 18,
   "metadata": {},
   "outputs": [],
   "source": [
    "df2= pd.read_csv(r'visible_range\\kaikovo\\t1s_lvl_2.txt',header=None,sep=\"\\t\")"
   ]
  },
  {
   "cell_type": "code",
   "execution_count": 19,
   "metadata": {},
   "outputs": [],
   "source": [
    "df3= pd.read_csv(r'visible_range\\kaikovo\\t3_lvl_2.txt',header=None,sep=\"\\t\")"
   ]
  },
  {
   "cell_type": "code",
   "execution_count": 20,
   "metadata": {},
   "outputs": [],
   "source": [
    "df4= pd.read_csv(r'visible_range\\kaikovo\\t4_lvl_2.txt',header=None,sep=\"\\t\")"
   ]
  },
  {
   "cell_type": "code",
   "execution_count": 21,
   "metadata": {},
   "outputs": [],
   "source": [
    "df1.columns = ['x', 'y']\n",
    "df2.columns = ['x', 'y']\n",
    "df3.columns = ['x', 'y']\n",
    "df4.columns = ['x', 'y']\n"
   ]
  },
  {
   "cell_type": "code",
   "execution_count": 22,
   "metadata": {},
   "outputs": [],
   "source": [
    "rlist = [450, 510, 800, 680, 700, 670, 550, 750, 705, 445, 500, 734, 747, 715, 720, 740, 780, 440, 690, 420, 695, 620, 650, 560, 540, 600, 410, 480, 708, 810, 861]"
   ]
  },
  {
   "cell_type": "code",
   "execution_count": 23,
   "metadata": {},
   "outputs": [],
   "source": [
    "res_dic = {}\n",
    "for r in rlist:\n",
    "    res_dic[r] = [df1.loc[abs(df1.x - r).sort_values().index[0]].y]\n",
    "    res_dic[r].append(df2.loc[abs(df2.x - r).sort_values().index[0]].y)\n",
    "    res_dic[r].append(df3.loc[abs(df3.x - r).sort_values().index[0]].y)\n",
    "    res_dic[r].append(df4.loc[abs(df4.x - r).sort_values().index[0]].y)\n"
   ]
  },
  {
   "cell_type": "code",
   "execution_count": 24,
   "metadata": {},
   "outputs": [],
   "source": [
    "mean_dict = {}"
   ]
  },
  {
   "cell_type": "code",
   "execution_count": 25,
   "metadata": {},
   "outputs": [],
   "source": [
    "solve_dict = {}"
   ]
  },
  {
   "cell_type": "code",
   "execution_count": 26,
   "metadata": {},
   "outputs": [],
   "source": [
    "for r in rlist:\n",
    "    mean_dict[r] = np.mean(res_dic[r])\n",
    "    solve_dict[r] = mean_dict[r]"
   ]
  },
  {
   "cell_type": "code",
   "execution_count": 27,
   "metadata": {},
   "outputs": [],
   "source": [
    "NDVI = (solve_dict[800]-solve_dict[680])/(solve_dict[800]+solve_dict[680])\n",
    "MCARI = ((solve_dict[700]-solve_dict[670])-0.2*(solve_dict[700]-solve_dict[550]))*(solve_dict[700]/solve_dict[670])\n",
    "WCARI2 = (1.5*(2.5*(solve_dict[800]-solve_dict[670])-1.3*(solve_dict[800]-solve_dict[550])))/(math.sqrt((2*solve_dict[800]+1)*(2*solve_dict[800]+1)-(6*solve_dict[800]-5*math.sqrt(solve_dict[670]))-0.5)) \n",
    "MRENDVI=(solve_dict[750]-solve_dict[705])/(solve_dict[750]+solve_dict[705]-2*solve_dict[445])\n",
    "MRESR = (solve_dict[750]-solve_dict[445])/(solve_dict[705]-solve_dict[445])\n",
    "MTVI = 1.2*(1.2*(solve_dict[800]-solve_dict[550])-2.5*(solve_dict[670]-solve_dict[550]))\n",
    "RENDVI = (solve_dict[750]-solve_dict[705])/(solve_dict[750]+solve_dict[705])\n",
    "PSRI = (solve_dict[680]-solve_dict[500])/solve_dict[750]\n",
    "Re = (solve_dict[670]+solve_dict[780])/2\n",
    "REP = 700+40*((Re - solve_dict[700])/(solve_dict[740]-solve_dict[700]))\n",
    "BR = solve_dict[440]/solve_dict[690]\n",
    "FR720 = (solve_dict[734] - solve_dict[747])/(solve_dict[715]-solve_dict[720])\n",
    "ARI2 = solve_dict[800] * ((1/solve_dict[550]) - (1/solve_dict[700]))\n",
    "CRI1 = (1/solve_dict[510])-(1/solve_dict[550])\n",
    "DI1 = solve_dict[800] - solve_dict[550]\n",
    "SIPI = (solve_dict[800] - solve_dict[445])/(solve_dict[800]+solve_dict[680])\n",
    "LV = (solve_dict[550]*solve_dict[680])/(solve_dict[450]*solve_dict[450])\n",
    "GNDVI = (solve_dict[810]-((solve_dict[510]+solve_dict[861])/2))/(solve_dict[810]+((solve_dict[510]+solve_dict[861])/2))"
   ]
  },
  {
   "cell_type": "code",
   "execution_count": 31,
   "metadata": {},
   "outputs": [],
   "source": [
    "table = pd.DataFrame({'Index': ['NDVI', 'MCARI', 'WCARI2', 'MRENDVI', 'MRESR', 'MTVI', 'RENDVI', 'PSRI', 'REP','BR','FR720','ARI2','CRI1','DI1','SIPI','LV'],\n",
    "                      'Kaikovo': [NDVI,MCARI,WCARI2,MRENDVI,MRESR,MTVI,RENDVI,PSRI,REP,BR,FR720,ARI2,CRI1,DI1, SIPI,LV]})"
   ]
  },
  {
   "cell_type": "code",
   "execution_count": 32,
   "metadata": {},
   "outputs": [],
   "source": [
    "table.to_excel(r'visible_range\\kaikovo\\kaikovo_index_lvl_2.xlsx')"
   ]
  },
  {
   "cell_type": "code",
   "execution_count": null,
   "metadata": {},
   "outputs": [],
   "source": []
  },
  {
   "cell_type": "code",
   "execution_count": 35,
   "metadata": {},
   "outputs": [
    {
     "data": {
      "image/png": "[encoded data removed]",
      "text/plain": [
       "<Figure size 432x288 with 1 Axes>"
      ]
     },
     "metadata": {
      "needs_background": "light"
     },
     "output_type": "display_data"
    }
   ],
   "source": [
    "df = pd.read_table(r'visible_range\\kaikovo\\t5_lvl_1.txt',header=None,sep=r\"\\s+\")\n",
    "df = pd.DataFrame({'wavelenght': df.iloc[:,0], 'reflectance': df.iloc[:,1].rolling(15, min_periods=1).mean()})\n",
    "#plt.plot(df['wavelenght'], df['reflectance'],label = 'ex1_health')\n",
    "\n",
    "df1 = pd.read_table(r'visible_range\\kaikovo\\t7_lvl_1.txt',header=None,sep=r\"\\s+\")\n",
    "df1 = pd.DataFrame({'wavelenght': df1.iloc[:,0], 'reflectance': df1.iloc[:,1].rolling(15, min_periods=1).mean()})\n",
    "#plt.plot(df1['wavelenght'], df1['reflectance'],label = 'ex2_health')\n",
    "\n",
    "df2 = pd.read_table(r'visible_range\\kaikovo\\t8_lvl_1.txt',header=None,sep=r\"\\s+\")\n",
    "df2 = pd.DataFrame({'wavelenght': df2.iloc[:,0], 'reflectance': df2.iloc[:,1].rolling(15, min_periods=1).mean()})\n",
    "#plt.plot(df2['wavelenght'], df2['reflectance'],label = 'ex3_health')\n",
    "\n",
    "df3 = pd.read_table(r'visible_range\\kaikovo\\t1n_lvl_2.txt',header=None,sep=r\"\\s+\")\n",
    "df3 = pd.DataFrame({'wavelenght': df3.iloc[:,0], 'reflectance': df3.iloc[:,1].rolling(15, min_periods=1).mean()})\n",
    "#plt.plot(df3['wavelenght'], df3['reflectance'],label = 'ex3_ill')\n",
    "\n",
    "df4 = pd.read_table(r'visible_range\\kaikovo\\t1s_lvl_2.txt',header=None,sep=r\"\\s+\")\n",
    "df4 = pd.DataFrame({'wavelenght': df4.iloc[:,0], 'reflectance': df4.iloc[:,1].rolling(15, min_periods=1).mean()})\n",
    "#plt.plot(df4['wavelenght'], df4['reflectance'],label = 'ex3_ill')\n",
    "\n",
    "df5 = pd.read_table(r'visible_range\\kaikovo\\t3_lvl_2.txt',header=None,sep=r\"\\s+\")\n",
    "df5 = pd.DataFrame({'wavelenght': df5.iloc[:,0], 'reflectance': df5.iloc[:,1].rolling(15, min_periods=1).mean()})\n",
    "#plt.plot(df5['wavelenght'], df5['reflectance'],label = 'ex3_ill')\n",
    "\n",
    "df6 = pd.read_table(r'visible_range\\kaikovo\\t4_lvl_2.txt',header=None,sep=r\"\\s+\")\n",
    "df6 = pd.DataFrame({'wavelenght': df6.iloc[:,0], 'reflectance': df6.iloc[:,1].rolling(15, min_periods=1).mean()})\n",
    "\n",
    "df7 = pd.read_table(r'visible_range\\kaikovo\\t6_lvl_3.txt',header=None,sep=r\"\\s+\")\n",
    "df7 = pd.DataFrame({'wavelenght': df7.iloc[:,0], 'reflectance': df7.iloc[:,1].rolling(15, min_periods=1).mean()})\n",
    "\n",
    "df8 = pd.read_table(r'visible_range\\kaikovo\\t2_lvl_3.txt',header=None,sep=r\"\\s+\")\n",
    "df8 = pd.DataFrame({'wavelenght': df8.iloc[:,0], 'reflectance': df8.iloc[:,1].rolling(15, min_periods=1).mean()})\n",
    "\n",
    "\n",
    "df9 = pd.DataFrame({'wavelenght': df5.iloc[:,0], 'reflectance': ((df.iloc[:,1]+df1.iloc[:,1]+df2.iloc[:,1])/3).rolling(15, min_periods=1).mean()})\n",
    "plt.plot(df6['wavelenght'], df6['reflectance'],label = 'average_lvl_1')\n",
    "\n",
    "df10 = pd.DataFrame({'wavelenght': df2.iloc[:,0], 'reflectance': ((df3.iloc[:,1]+df4.iloc[:,1]+df5.iloc[:,1]+df6.iloc[:,1])/4).rolling(15, min_periods=1).mean()})\n",
    "plt.plot(df7['wavelenght'], df7['reflectance'],label = 'average_lvl_2')\n",
    "\n",
    "df11 = pd.DataFrame({'wavelenght': df2.iloc[:,0], 'reflectance': ((df7.iloc[:,1]+df8.iloc[:,1])/2).rolling(15, min_periods=1).mean()})\n",
    "plt.plot(df8['wavelenght'], df8['reflectance'],label = 'average_lvl_3')\n",
    "\n",
    "plt.xlabel('wavelenght') \n",
    "plt.ylabel('reflectance') \n",
    "plt.legend()\n",
    "\n",
    "plt.savefig(r'visible_range\\kaikovo\\kailovo_average_visible_health_And_ill.png')"
   ]
  },
  {
   "cell_type": "code",
   "execution_count": null,
   "metadata": {},
   "outputs": [],
   "source": []
  }
 ],
 "metadata": {
  "kernelspec": {
   "display_name": "Python 3",
   "language": "python",
   "name": "python3"
  },
  "language_info": {
   "codemirror_mode": {
    "name": "ipython",
    "version": 3
   },
   "file_extension": ".py",
   "mimetype": "text/x-python",
   "name": "python",
   "nbconvert_exporter": "python",
   "pygments_lexer": "ipython3",
   "version": "3.8.5"
  }
 },
 "nbformat": 4,
 "nbformat_minor": 4
}
